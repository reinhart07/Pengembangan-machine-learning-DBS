{
  "nbformat": 4,
  "nbformat_minor": 0,
  "metadata": {
    "colab": {
      "provenance": []
    },
    "kernelspec": {
      "name": "python3",
      "display_name": "Python 3"
    },
    "language_info": {
      "name": "python"
    }
  },
  "cells": [
    {
      "cell_type": "code",
      "execution_count": null,
      "metadata": {
        "id": "KxntiHxyRftU"
      },
      "outputs": [],
      "source": [
        "# Analisis Sentimen Ulasan Gojek dengan Deep Learning dan Pendekatan Berbasis Teks\n",
        "# Import package yang dibutuhkan\n",
        "import pandas as pd\n",
        "import numpy as np\n",
        "import matplotlib.pyplot as plt\n",
        "import seaborn as sns\n",
        "import re\n",
        "import nltk\n",
        "from nltk.corpus import stopwords\n",
        "from nltk.tokenize import word_tokenize\n",
        "from nltk.sentiment.vader import SentimentIntensityAnalyzer\n",
        "import tensorflow as tf\n",
        "from tensorflow.keras.preprocessing.text import Tokenizer\n",
        "from tensorflow.keras.preprocessing.sequence import pad_sequences\n",
        "from tensorflow.keras.models import Sequential\n",
        "from tensorflow.keras.layers import Embedding, LSTM, Dense, Bidirectional, Dropout, Conv1D, GlobalMaxPooling1D, MaxPooling1D\n",
        "from tensorflow.keras.callbacks import EarlyStopping, ModelCheckpoint, ReduceLROnPlateau\n",
        "from sklearn.model_selection import train_test_split\n",
        "from sklearn.metrics import classification_report, confusion_matrix, accuracy_score\n",
        "import warnings\n",
        "warnings.filterwarnings('ignore')"
      ]
    },
    {
      "cell_type": "code",
      "source": [
        "# Download NLTK resources\n",
        "nltk.download('punkt')\n",
        "nltk.download('stopwords')\n",
        "nltk.download('vader_lexicon')  # Untuk SentimentIntensityAnalyzer"
      ],
      "metadata": {
        "colab": {
          "base_uri": "https://localhost:8080/"
        },
        "id": "zMI0OAw6W5HC",
        "outputId": "dbb84e51-743b-4998-e22a-9602442d4945"
      },
      "execution_count": null,
      "outputs": [
        {
          "output_type": "stream",
          "name": "stderr",
          "text": [
            "[nltk_data] Downloading package punkt to /root/nltk_data...\n",
            "[nltk_data]   Unzipping tokenizers/punkt.zip.\n",
            "[nltk_data] Downloading package stopwords to /root/nltk_data...\n",
            "[nltk_data]   Unzipping corpora/stopwords.zip.\n",
            "[nltk_data] Downloading package vader_lexicon to /root/nltk_data...\n"
          ]
        },
        {
          "output_type": "execute_result",
          "data": {
            "text/plain": [
              "True"
            ]
          },
          "metadata": {},
          "execution_count": 2
        }
      ]
    },
    {
      "cell_type": "code",
      "source": [
        "\n",
        "# Set memory growth for GPU (jika menggunakan GPU)\n",
        "try:\n",
        "    gpus = tf.config.experimental.list_physical_devices('GPU')\n",
        "    if gpus:\n",
        "        for gpu in gpus:\n",
        "            tf.config.experimental.set_memory_growth(gpu, True)\n",
        "        print(f\"GPU tersedia: {len(gpus)}\")\n",
        "    else:\n",
        "        print(\"Tidak ada GPU yang terdeteksi, menggunakan CPU\")\n",
        "except Exception as e:\n",
        "    print(f\"Error dalam setup GPU: {e}\")"
      ],
      "metadata": {
        "colab": {
          "base_uri": "https://localhost:8080/"
        },
        "id": "GJybjELJX82i",
        "outputId": "f48d40f0-2393-44be-869d-3e9fd15cd3eb"
      },
      "execution_count": null,
      "outputs": [
        {
          "output_type": "stream",
          "name": "stdout",
          "text": [
            "Tidak ada GPU yang terdeteksi, menggunakan CPU\n"
          ]
        }
      ]
    },
    {
      "cell_type": "code",
      "source": [
        "# Baca dataset asli\n",
        "print(\"Membaca dataset...\")\n",
        "df = pd.read_csv('/content/gojek_reviews.csv')"
      ],
      "metadata": {
        "id": "59c71n5_XAr2",
        "colab": {
          "base_uri": "https://localhost:8080/"
        },
        "outputId": "d7075f26-aae1-44aa-d327-9603daa57ec0"
      },
      "execution_count": null,
      "outputs": [
        {
          "output_type": "stream",
          "name": "stdout",
          "text": [
            "Membaca dataset...\n"
          ]
        }
      ]
    },
    {
      "cell_type": "code",
      "source": [
        "# Tampilkan info tentang dataset\n",
        "print(\"\\nInformasi Dataset:\")\n",
        "print(df.info())\n",
        "print(\"\\nContoh data:\")\n",
        "print(df.head())\n",
        "\n",
        "# Cek distribusi skor\n",
        "print(\"\\nDistribusi skor:\")\n",
        "print(df['score'].value_counts().sort_index())"
      ],
      "metadata": {
        "colab": {
          "base_uri": "https://localhost:8080/"
        },
        "id": "iigmM_1JYBwQ",
        "outputId": "9c3222d4-f57e-4b99-bc0b-3cfb096c57eb"
      },
      "execution_count": null,
      "outputs": [
        {
          "output_type": "stream",
          "name": "stdout",
          "text": [
            "\n",
            "Informasi Dataset:\n",
            "<class 'pandas.core.frame.DataFrame'>\n",
            "RangeIndex: 52430 entries, 0 to 52429\n",
            "Data columns (total 11 columns):\n",
            " #   Column                Non-Null Count  Dtype \n",
            "---  ------                --------------  ----- \n",
            " 0   reviewId              52430 non-null  object\n",
            " 1   userName              52430 non-null  object\n",
            " 2   userImage             52430 non-null  object\n",
            " 3   content               52430 non-null  object\n",
            " 4   score                 52430 non-null  int64 \n",
            " 5   thumbsUpCount         52430 non-null  int64 \n",
            " 6   reviewCreatedVersion  40562 non-null  object\n",
            " 7   at                    52430 non-null  object\n",
            " 8   replyContent          13869 non-null  object\n",
            " 9   repliedAt             13869 non-null  object\n",
            " 10  appVersion            40561 non-null  object\n",
            "dtypes: int64(2), object(9)\n",
            "memory usage: 4.4+ MB\n",
            "None\n",
            "\n",
            "Contoh data:\n",
            "                               reviewId         userName  \\\n",
            "0  5a957f59-d97b-4ebb-81ba-76cbc950f80a  Pengguna Google   \n",
            "1  468db741-3adc-4129-b2d5-b7e47b18cf17  Pengguna Google   \n",
            "2  0b88dcda-8b2e-4a85-b9e8-00b6f3d6cbaf  Pengguna Google   \n",
            "3  066920d4-3f01-4f8a-9584-e6d1bd2097db  Pengguna Google   \n",
            "4  4d4825c7-7e81-4c5c-ae76-8dfcd6f664de  Pengguna Google   \n",
            "\n",
            "                                           userImage  \\\n",
            "0  https://play-lh.googleusercontent.com/EGemoI2N...   \n",
            "1  https://play-lh.googleusercontent.com/EGemoI2N...   \n",
            "2  https://play-lh.googleusercontent.com/EGemoI2N...   \n",
            "3  https://play-lh.googleusercontent.com/EGemoI2N...   \n",
            "4  https://play-lh.googleusercontent.com/EGemoI2N...   \n",
            "\n",
            "                                             content  score  thumbsUpCount  \\\n",
            "0                                    sangat membantu      5              0   \n",
            "1  apk payah order makanan tercantum tulisan menu...      1              0   \n",
            "2                                              bagus      5              0   \n",
            "3  lama amat d fitur gofood nunggu di masak chef ...      1              0   \n",
            "4  tolong kalau drivernya gak mau ambil jangan di...      1              0   \n",
            "\n",
            "  reviewCreatedVersion                   at  \\\n",
            "0               5.14.2  2025-03-27 12:03:34   \n",
            "1               5.13.1  2025-03-27 11:59:55   \n",
            "2               5.14.2  2025-03-27 11:59:47   \n",
            "3               5.14.2  2025-03-27 11:55:30   \n",
            "4               5.14.2  2025-03-27 11:53:53   \n",
            "\n",
            "                                        replyContent            repliedAt  \\\n",
            "0                                                NaN                  NaN   \n",
            "1  Mohon maaf atas kendalanya, Kak Vicky. Kesulit...  2025-03-27 14:08:58   \n",
            "2                                                NaN                  NaN   \n",
            "3  Hai Kak @Molto srb, mohon maaf atas ketidaknya...  2025-03-27 14:06:27   \n",
            "4  Hai Kak Gresela, mohon maaf atas ketidaknyaman...  2025-03-27 14:02:57   \n",
            "\n",
            "  appVersion  \n",
            "0     5.14.2  \n",
            "1     5.13.1  \n",
            "2     5.14.2  \n",
            "3     5.14.2  \n",
            "4     5.14.2  \n",
            "\n",
            "Distribusi skor:\n",
            "score\n",
            "1    12241\n",
            "2     1933\n",
            "3     1856\n",
            "4     2729\n",
            "5    33671\n",
            "Name: count, dtype: int64\n"
          ]
        }
      ]
    },
    {
      "cell_type": "code",
      "source": [
        "# Fungsi untuk praproses teks\n",
        "def preprocess_text(text):\n",
        "    if isinstance(text, str):\n",
        "        # Lowercase\n",
        "        text = text.lower()\n",
        "        # Hapus URL\n",
        "        text = re.sub(r'http\\S+', '', text)\n",
        "        # Hapus mention dan hashtag\n",
        "        text = re.sub(r'@\\w+|#\\w+', '', text)\n",
        "        # Hapus karakter khusus dan angka\n",
        "        text = re.sub(r'[^\\w\\s]|[\\d]', '', text)\n",
        "        # Hapus whitespace berlebih\n",
        "        text = re.sub(r'\\s+', ' ', text).strip()\n",
        "        return text\n",
        "    return \"\"\n"
      ],
      "metadata": {
        "id": "rBtBStAlYEwM"
      },
      "execution_count": null,
      "outputs": []
    },
    {
      "cell_type": "code",
      "source": [
        "# CARA 1: PENDEKATAN LEXICON-BASED\n",
        "# Fungsi untuk menentukan sentimen menggunakan kamus kata positif dan negatif dalam Bahasa Indonesia\n",
        "def lexicon_based_sentiment(text):\n",
        "    # Kamus sederhana kata positif dan negatif dalam Bahasa Indonesia\n",
        "    # Kata-kata ini dapat ditambah atau diubah sesuai kebutuhan\n",
        "    positive_words = [\n",
        "        'bagus', 'baik', 'senang', 'suka', 'puas', 'cepat', 'enak', 'ramah',\n",
        "        'recommended', 'mantap', 'keren', 'top', 'membantu', 'oke', 'ok',\n",
        "        'mudah', 'nyaman', 'bersih', 'tepat', 'cepat', 'terbaik', 'rekomen',\n",
        "        'memuaskan', 'tanggap', 'profesional', 'hebat', 'menyenangkan', 'luar biasa'\n",
        "    ]\n",
        "\n",
        "    negative_words = [\n",
        "        'buruk', 'jelek', 'lambat', 'kecewa', 'mahal', 'susah', 'rumit', 'tidak',\n",
        "        'jangan', 'batal', 'gagal', 'error', 'rugi', 'marah', 'kesal', 'sulit',\n",
        "        'benci', 'parah', 'lemot', 'lama', 'kasar', 'bodoh', 'payah', 'mengecewakan',\n",
        "        'menyebalkan', 'mengerikan', 'menipu', 'berbohong', 'bug', 'hang'\n",
        "    ]\n",
        "\n",
        "    words = text.lower().split()\n",
        "    # Hitung kata positif dan negatif  # Indentation fixed here\n",
        "    positive_count = sum(1 for word in words if word in positive_words)\n",
        "    negative_count = sum(1 for word in words if word in negative_words)"
      ],
      "metadata": {
        "id": "xda8RKa3YK4F"
      },
      "execution_count": null,
      "outputs": []
    },
    {
      "cell_type": "code",
      "source": [
        "# CARA 2: PENDEKATAN VADER (ADAPTASI UNTUK BAHASA INDONESIA)\n",
        "# Meskipun VADER dirancang untuk Bahasa Inggris, kita bisa mencoba adaptasi\n",
        "# dengan menerjemahkan kata-kata kunci Bahasa Indonesia ke Inggris\n",
        "def map_indo_to_eng(text):\n",
        "    # Kamus sederhana kata Bahasa Indonesia ke Bahasa Inggris\n",
        "    indo_to_eng = {\n",
        "        'bagus': 'good', 'baik': 'good', 'senang': 'happy', 'suka': 'like',\n",
        "        'puas': 'satisfied', 'cepat': 'fast', 'enak': 'nice', 'ramah': 'friendly',\n",
        "        'mantap': 'great', 'keren': 'cool', 'membantu': 'helpful', 'mudah': 'easy',\n",
        "        'buruk': 'bad', 'jelek': 'ugly', 'lambat': 'slow', 'kecewa': 'disappointed',\n",
        "        'mahal': 'expensive', 'susah': 'difficult', 'tidak': 'not', 'batal': 'cancel',\n",
        "        'gagal': 'fail', 'error': 'error', 'rugi': 'loss', 'marah': 'angry',\n",
        "        'kesal': 'annoyed', 'sulit': 'difficult', 'nyaman': 'comfortable',\n",
        "        'bersih': 'clean', 'kotor': 'dirty', 'terbaik': 'best', 'terburuk': 'worst'\n",
        "    }\n",
        "\n",
        "    words = text.lower().split()\n",
        "    eng_words = []\n",
        "\n",
        "    for word in words:\n",
        "        if word in indo_to_eng:\n",
        "            eng_words.append(indo_to_eng[word])\n",
        "        else:\n",
        "            eng_words.append(word)\n",
        "\n",
        "    return ' '.join(eng_words)\n",
        "\n",
        "def vader_sentiment(text):\n",
        "    # Inisialisasi SentimentIntensityAnalyzer\n",
        "    sid = SentimentIntensityAnalyzer()\n",
        "\n",
        "    # \"Terjemahkan\" kata kunci ke Bahasa Inggris\n",
        "    eng_text = map_indo_to_eng(text)\n",
        "\n",
        "    # Dapatkan skor sentimen\n",
        "    sentiment_scores = sid.polarity_scores(eng_text)\n",
        "\n",
        "    # Tentukan sentimen berdasarkan skor compound\n",
        "    if sentiment_scores['compound'] >= 0.05:\n",
        "        return 'positif'\n",
        "    elif sentiment_scores['compound'] <= -0.05:\n",
        "        return 'negatif'\n",
        "    else:\n",
        "        return 'netral'"
      ],
      "metadata": {
        "id": "YzkuRd0VYSBa"
      },
      "execution_count": null,
      "outputs": []
    },
    {
      "cell_type": "code",
      "source": [
        "# CARA 3: PENDEKATAN HYBRID\n",
        "# Menggabungkan lexicon-based, VADER, dan rating\n",
        "def hybrid_sentiment_analysis(text, score=None):\n",
        "    # Dapatkan sentimen dari lexicon-based\n",
        "    lexicon_result = lexicon_based_sentiment(text)\n",
        "\n",
        "    # Dapatkan sentimen dari VADER\n",
        "    vader_result = vader_sentiment(text)\n",
        "\n",
        "    # Tentukan sentimen final berdasarkan \"voting\"\n",
        "    if lexicon_result == vader_result:\n",
        "        return lexicon_result\n",
        "    elif score is not None:\n",
        "        # Jika hasil berbeda, gunakan skor sebagai tie-breaker\n",
        "        if score <= 2:\n",
        "            return 'negatif'\n",
        "        elif score >= 4:\n",
        "            return 'positif'\n",
        "        else:\n",
        "            return 'netral'\n",
        "    else:\n",
        "        # Jika tidak ada skor, prioritaskan lexicon-based untuk Bahasa Indonesia\n",
        "        return lexicon_result"
      ],
      "metadata": {
        "id": "YDJL0SXWYZod"
      },
      "execution_count": null,
      "outputs": []
    },
    {
      "cell_type": "code",
      "source": [
        "# Praproses teks\n",
        "print(\"\\nMemulai praproses teks...\")\n",
        "# Gunakan chunk processing untuk dataset besar\n",
        "chunk_size = 50000\n",
        "for i in range(0, len(df), chunk_size):\n",
        "    end = min(i + chunk_size, len(df))\n",
        "    print(f\"  Memproses {i} sampai {end}...\")\n",
        "    df.loc[i:end-1, 'processed_content'] = df.loc[i:end-1, 'content'].apply(preprocess_text)"
      ],
      "metadata": {
        "colab": {
          "base_uri": "https://localhost:8080/"
        },
        "id": "WifyJzamYccZ",
        "outputId": "164be471-c7c4-4ec6-e61c-84b097dfb638"
      },
      "execution_count": null,
      "outputs": [
        {
          "output_type": "stream",
          "name": "stdout",
          "text": [
            "\n",
            "Memulai praproses teks...\n",
            "  Memproses 0 sampai 50000...\n",
            "  Memproses 50000 sampai 52430...\n"
          ]
        }
      ]
    },
    {
      "cell_type": "code",
      "source": [
        "# Membuat label sentimen berbasis teks (bukan hanya berbasis skor)\n",
        "print(\"\\nMembuat label sentimen berbasis teks...\")\n",
        "# Contoh aplikasi hybrid sentiment analysis\n",
        "df['text_sentiment'] = df.apply(\n",
        "    lambda row: hybrid_sentiment_analysis(row['processed_content'], row['score']),\n",
        "    axis=1\n",
        ")\n",
        "\n",
        "# Konversi label sentimen ke kode\n",
        "sentiment_map = {'negatif': 0, 'netral': 1, 'positif': 2}\n",
        "df['sentiment_code'] = df['text_sentiment'].map(sentiment_map)"
      ],
      "metadata": {
        "colab": {
          "base_uri": "https://localhost:8080/"
        },
        "id": "BR68d0g_ZxwU",
        "outputId": "c2e41b41-8667-4ef7-f612-93278340fd80"
      },
      "execution_count": null,
      "outputs": [
        {
          "metadata": {
            "tags": null
          },
          "name": "stdout",
          "output_type": "stream",
          "text": [
            "\n",
            "Membuat label sentimen berbasis teks...\n"
          ]
        }
      ]
    },
    {
      "cell_type": "code",
      "source": [
        "# Bandingkan label sentimen berbasis teks dengan label berbasis skor\n",
        "df['score_sentiment'] = df['score'].apply(\n",
        "    lambda score: 'negatif' if score <= 2 else ('netral' if score == 3 else 'positif')\n",
        ")"
      ],
      "metadata": {
        "id": "9jYDpLthZzVO"
      },
      "execution_count": null,
      "outputs": []
    },
    {
      "cell_type": "code",
      "source": [
        "# Perbandingan hasil labeling\n",
        "agreement = (df['text_sentiment'] == df['score_sentiment']).mean() * 100\n",
        "print(f\"\\nPersentase kecocokan antara label berbasis teks dan berbasis skor: {agreement:.2f}%\")\n"
      ],
      "metadata": {
        "id": "ma6U8yWJaLal",
        "colab": {
          "base_uri": "https://localhost:8080/"
        },
        "outputId": "1360a13d-105a-4acc-8350-ec8a82813bfc"
      },
      "execution_count": null,
      "outputs": [
        {
          "output_type": "stream",
          "name": "stdout",
          "text": [
            "\n",
            "Persentase kecocokan antara label berbasis teks dan berbasis skor: 100.00%\n"
          ]
        }
      ]
    },
    {
      "cell_type": "code",
      "source": [
        "# Visualisasi distribusi sentimen berbasis teks\n",
        "plt.figure(figsize=(10, 6))\n",
        "sns.countplot(x='text_sentiment', data=df.sample(min(len(df), 10000), random_state=42))\n",
        "plt.title('Distribusi Sentimen Berbasis Teks (Sample)')\n",
        "plt.show()\n",
        "\n",
        "# Visualisasi perbandingan sentimen berbasis teks vs berbasis skor\n",
        "comparison_df = pd.DataFrame({\n",
        "    'Metode': ['Berbasis Teks', 'Berbasis Skor'],\n",
        "    'Negatif': [\n",
        "        (df['text_sentiment'] == 'negatif').sum(),\n",
        "        (df['score_sentiment'] == 'negatif').sum()\n",
        "    ],\n",
        "    'Netral': [\n",
        "        (df['text_sentiment'] == 'netral').sum(),\n",
        "        (df['score_sentiment'] == 'netral').sum()\n",
        "    ],\n",
        "    'Positif': [\n",
        "        (df['text_sentiment'] == 'positif').sum(),\n",
        "        (df['score_sentiment'] == 'positif').sum()\n",
        "    ]\n",
        "})\n",
        "\n",
        "comparison_melted = pd.melt(comparison_df, id_vars=['Metode'],\n",
        "                           value_vars=['Negatif', 'Netral', 'Positif'],\n",
        "                           var_name='Sentimen', value_name='Jumlah')\n",
        "\n",
        "plt.figure(figsize=(12, 6))\n",
        "sns.barplot(x='Sentimen', y='Jumlah', hue='Metode', data=comparison_melted)\n",
        "plt.title('Perbandingan Distribusi Sentimen: Berbasis Teks vs Berbasis Skor')\n",
        "plt.show()\n",
        "\n",
        "print(\"\\nPraproses data selesai\")"
      ],
      "metadata": {
        "colab": {
          "base_uri": "https://localhost:8080/",
          "height": 1000
        },
        "id": "3qLvnokzaRE5",
        "outputId": "51694d29-147a-41b6-a3a0-870452b71f30"
      },
      "execution_count": null,
      "outputs": [
        {
          "output_type": "display_data",
          "data": {
            "text/plain": [
              "<Figure size 1000x600 with 1 Axes>"
            ],
            "image/png": "[encoded data removed]"
          },
          "metadata": {}
        },
        {
          "output_type": "display_data",
          "data": {
            "text/plain": [
              "<Figure size 1200x600 with 1 Axes>"
            ],
            "image/png": "[encoded data removed]"
          },
          "metadata": {}
        },
        {
          "output_type": "stream",
          "name": "stdout",
          "text": [
            "\n",
            "Praproses data selesai\n"
          ]
        }
      ]
    },
    {
      "cell_type": "code",
      "source": [
        "# Cek distribusi panjang teks\n",
        "text_lengths = df['processed_content'].str.len()\n",
        "print(f\"\\nStatistik panjang teks:\")\n",
        "print(f\"  Min: {text_lengths.min()}\")\n",
        "print(f\"  Mean: {text_lengths.mean():.2f}\")\n",
        "print(f\"  Median: {text_lengths.median()}\")\n",
        "print(f\"  95 percentile: {text_lengths.quantile(0.95)}\")\n",
        "print(f\"  Max: {text_lengths.max()}\")\n",
        "\n",
        "# Tentukan max_length berdasarkan persentil ke-95 atau nilai tetap\n",
        "max_length = min(int(text_lengths.quantile(0.95)), 100)\n",
        "print(f\"Menggunakan max_length = {max_length} untuk padding\")"
      ],
      "metadata": {
        "colab": {
          "base_uri": "https://localhost:8080/"
        },
        "id": "3rbzBl5DaUH8",
        "outputId": "8cf79a71-cb9a-49d9-9ad0-5814f1b89b4d"
      },
      "execution_count": null,
      "outputs": [
        {
          "output_type": "stream",
          "name": "stdout",
          "text": [
            "\n",
            "Statistik panjang teks:\n",
            "  Min: 0\n",
            "  Mean: 58.10\n",
            "  Median: 24.0\n",
            "  95 percentile: 237.0\n",
            "  Max: 500\n",
            "Menggunakan max_length = 100 untuk padding\n"
          ]
        }
      ]
    },
    {
      "cell_type": "code",
      "source": [
        "# ----------------------------------\n",
        "# DATA PREPARATION & TOKENIZATION\n",
        "# ----------------------------------\n",
        "\n",
        "# Ambil fitur dan target - MENGGUNAKAN SENTIMEN BERBASIS TEKS\n",
        "X = df['processed_content']\n",
        "y = df['sentiment_code']  # Dari text_sentiment yang sudah dikonversi ke sentiment_code"
      ],
      "metadata": {
        "id": "ilqEzFjSaZ26"
      },
      "execution_count": null,
      "outputs": []
    },
    {
      "cell_type": "code",
      "source": [
        "# Membagi data menjadi training dan testing set\n",
        "X_train, X_test, y_train, y_test = train_test_split(\n",
        "    X, y, test_size=0.2, random_state=42, stratify=y\n",
        ")\n",
        "\n",
        "print(f\"\\nUkuran data training: {len(X_train)} sampel\")\n",
        "print(f\"Ukuran data testing: {len(X_test)} sampel\")"
      ],
      "metadata": {
        "colab": {
          "base_uri": "https://localhost:8080/"
        },
        "id": "n-k4z5XBacQG",
        "outputId": "6b380fd1-7cf6-4d1a-c363-6dd3924ac66b"
      },
      "execution_count": null,
      "outputs": [
        {
          "output_type": "stream",
          "name": "stdout",
          "text": [
            "\n",
            "Ukuran data training: 41944 sampel\n",
            "Ukuran data testing: 10486 sampel\n"
          ]
        }
      ]
    },
    {
      "cell_type": "code",
      "source": [
        "# Tokenisasi - gunakan vocab size yang lebih besar untuk dataset besar\n",
        "vocab_size = 15000\n",
        "print(\"\\nMemulai tokenisasi...\")\n",
        "\n",
        "tokenizer = Tokenizer(num_words=vocab_size)\n",
        "tokenizer.fit_on_texts(X_train)\n",
        "\n",
        "# Simpan vocabulary size aktual\n",
        "vocab_actual_size = len(tokenizer.word_index) + 1\n",
        "print(f\"Total kata unik dalam vocabulary: {vocab_actual_size}\")"
      ],
      "metadata": {
        "colab": {
          "base_uri": "https://localhost:8080/"
        },
        "id": "_rEe5dqrahng",
        "outputId": "c82ec234-34d5-40ff-8b02-6a7fd784eb1d"
      },
      "execution_count": null,
      "outputs": [
        {
          "output_type": "stream",
          "name": "stdout",
          "text": [
            "\n",
            "Memulai tokenisasi...\n",
            "Total kata unik dalam vocabulary: 24028\n"
          ]
        }
      ]
    },
    {
      "cell_type": "code",
      "source": [
        "# Tokenisasi dan padding untuk training set\n",
        "print(\"Tokenisasi training set...\")\n",
        "X_train_seq = tokenizer.texts_to_sequences(X_train)\n",
        "X_train_pad = pad_sequences(X_train_seq, maxlen=max_length, padding='post')\n",
        "\n",
        "# Tokenisasi dan padding untuk test set\n",
        "print(\"Tokenisasi test set...\")\n",
        "X_test_seq = tokenizer.texts_to_sequences(X_test)\n",
        "X_test_pad = pad_sequences(X_test_seq, maxlen=max_length, padding='post')"
      ],
      "metadata": {
        "colab": {
          "base_uri": "https://localhost:8080/"
        },
        "id": "KCLev1neamzH",
        "outputId": "8aa56c13-c7d3-4986-ea45-89604e523b82"
      },
      "execution_count": null,
      "outputs": [
        {
          "output_type": "stream",
          "name": "stdout",
          "text": [
            "Tokenisasi training set...\n",
            "Tokenisasi test set...\n"
          ]
        }
      ]
    },
    {
      "cell_type": "code",
      "source": [
        "# ----------------------------------\n",
        "# MODEL 1: BiLSTM dengan optimasi\n",
        "# ----------------------------------\n",
        "\n",
        "def create_bilstm_model():\n",
        "    model = Sequential([\n",
        "        Embedding(input_dim=min(vocab_size, vocab_actual_size),\n",
        "                  output_dim=128,\n",
        "                  input_length=max_length),\n",
        "        Bidirectional(LSTM(64, return_sequences=True)),\n",
        "        Dropout(0.4),\n",
        "        Bidirectional(LSTM(32)),\n",
        "        Dropout(0.4),\n",
        "        Dense(32, activation='relu'),\n",
        "        Dropout(0.3),\n",
        "        Dense(3, activation='softmax')\n",
        "    ])\n",
        "\n",
        "    model.compile(\n",
        "        loss='sparse_categorical_crossentropy',\n",
        "        optimizer='adam',\n",
        "        metrics=['accuracy']\n",
        "    )\n",
        "    return model\n",
        "\n",
        "print(\"\\n--- MODEL 1: BiLSTM dengan Embedding ---\")\n",
        "model1 = create_bilstm_model()\n",
        "print(model1.summary())"
      ],
      "metadata": {
        "id": "CpNf4J8JapbJ",
        "colab": {
          "base_uri": "https://localhost:8080/",
          "height": 455
        },
        "outputId": "74aa7387-2d5c-4ef5-cb7d-e87a67b91e92"
      },
      "execution_count": null,
      "outputs": [
        {
          "output_type": "stream",
          "name": "stdout",
          "text": [
            "\n",
            "--- MODEL 1: BiLSTM dengan Embedding ---\n"
          ]
        },
        {
          "output_type": "display_data",
          "data": {
            "text/plain": [
              "\u001b[1mModel: \"sequential\"\u001b[0m\n"
            ],
            "text/html": [
              "<pre style=\"white-space:pre;overflow-x:auto;line-height:normal;font-family:Menlo,'DejaVu Sans Mono',consolas,'Courier New',monospace\"><span style=\"font-weight: bold\">Model: \"sequential\"</span>\n",
              "</pre>\n"
            ]
          },
          "metadata": {}
        },
        {
          "output_type": "display_data",
          "data": {
            "text/plain": [
              "┏━━━━━━━━━━━━━━━━━━━━━━━━━━━━━━━━━┳━━━━━━━━━━━━━━━━━━━━━━━━┳━━━━━━━━━━━━━━━┓\n",
              "┃\u001b[1m \u001b[0m\u001b[1mLayer (type)                   \u001b[0m\u001b[1m \u001b[0m┃\u001b[1m \u001b[0m\u001b[1mOutput Shape          \u001b[0m\u001b[1m \u001b[0m┃\u001b[1m \u001b[0m\u001b[1m      Param #\u001b[0m\u001b[1m \u001b[0m┃\n",
              "┡━━━━━━━━━━━━━━━━━━━━━━━━━━━━━━━━━╇━━━━━━━━━━━━━━━━━━━━━━━━╇━━━━━━━━━━━━━━━┩\n",
              "│ embedding (\u001b[38;5;33mEmbedding\u001b[0m)           │ ?                      │   \u001b[38;5;34m0\u001b[0m (unbuilt) │\n",
              "├─────────────────────────────────┼────────────────────────┼───────────────┤\n",
              "│ bidirectional (\u001b[38;5;33mBidirectional\u001b[0m)   │ ?                      │   \u001b[38;5;34m0\u001b[0m (unbuilt) │\n",
              "├─────────────────────────────────┼────────────────────────┼───────────────┤\n",
              "│ dropout (\u001b[38;5;33mDropout\u001b[0m)               │ ?                      │             \u001b[38;5;34m0\u001b[0m │\n",
              "├─────────────────────────────────┼────────────────────────┼───────────────┤\n",
              "│ bidirectional_1 (\u001b[38;5;33mBidirectional\u001b[0m) │ ?                      │   \u001b[38;5;34m0\u001b[0m (unbuilt) │\n",
              "├─────────────────────────────────┼────────────────────────┼───────────────┤\n",
              "│ dropout_1 (\u001b[38;5;33mDropout\u001b[0m)             │ ?                      │             \u001b[38;5;34m0\u001b[0m │\n",
              "├─────────────────────────────────┼────────────────────────┼───────────────┤\n",
              "│ dense (\u001b[38;5;33mDense\u001b[0m)                   │ ?                      │   \u001b[38;5;34m0\u001b[0m (unbuilt) │\n",
              "├─────────────────────────────────┼────────────────────────┼───────────────┤\n",
              "│ dropout_2 (\u001b[38;5;33mDropout\u001b[0m)             │ ?                      │             \u001b[38;5;34m0\u001b[0m │\n",
              "├─────────────────────────────────┼────────────────────────┼───────────────┤\n",
              "│ dense_1 (\u001b[38;5;33mDense\u001b[0m)                 │ ?                      │   \u001b[38;5;34m0\u001b[0m (unbuilt) │\n",
              "└─────────────────────────────────┴────────────────────────┴───────────────┘\n"
            ],
            "text/html": [
              "<pre style=\"white-space:pre;overflow-x:auto;line-height:normal;font-family:Menlo,'DejaVu Sans Mono',consolas,'Courier New',monospace\">┏━━━━━━━━━━━━━━━━━━━━━━━━━━━━━━━━━┳━━━━━━━━━━━━━━━━━━━━━━━━┳━━━━━━━━━━━━━━━┓\n",
              "┃<span style=\"font-weight: bold\"> Layer (type)                    </span>┃<span style=\"font-weight: bold\"> Output Shape           </span>┃<span style=\"font-weight: bold\">       Param # </span>┃\n",
              "┡━━━━━━━━━━━━━━━━━━━━━━━━━━━━━━━━━╇━━━━━━━━━━━━━━━━━━━━━━━━╇━━━━━━━━━━━━━━━┩\n",
              "│ embedding (<span style=\"color: #0087ff; text-decoration-color: #0087ff\">Embedding</span>)           │ ?                      │   <span style=\"color: #00af00; text-decoration-color: #00af00\">0</span> (unbuilt) │\n",
              "├─────────────────────────────────┼────────────────────────┼───────────────┤\n",
              "│ bidirectional (<span style=\"color: #0087ff; text-decoration-color: #0087ff\">Bidirectional</span>)   │ ?                      │   <span style=\"color: #00af00; text-decoration-color: #00af00\">0</span> (unbuilt) │\n",
              "├─────────────────────────────────┼────────────────────────┼───────────────┤\n",
              "│ dropout (<span style=\"color: #0087ff; text-decoration-color: #0087ff\">Dropout</span>)               │ ?                      │             <span style=\"color: #00af00; text-decoration-color: #00af00\">0</span> │\n",
              "├─────────────────────────────────┼────────────────────────┼───────────────┤\n",
              "│ bidirectional_1 (<span style=\"color: #0087ff; text-decoration-color: #0087ff\">Bidirectional</span>) │ ?                      │   <span style=\"color: #00af00; text-decoration-color: #00af00\">0</span> (unbuilt) │\n",
              "├─────────────────────────────────┼────────────────────────┼───────────────┤\n",
              "│ dropout_1 (<span style=\"color: #0087ff; text-decoration-color: #0087ff\">Dropout</span>)             │ ?                      │             <span style=\"color: #00af00; text-decoration-color: #00af00\">0</span> │\n",
              "├─────────────────────────────────┼────────────────────────┼───────────────┤\n",
              "│ dense (<span style=\"color: #0087ff; text-decoration-color: #0087ff\">Dense</span>)                   │ ?                      │   <span style=\"color: #00af00; text-decoration-color: #00af00\">0</span> (unbuilt) │\n",
              "├─────────────────────────────────┼────────────────────────┼───────────────┤\n",
              "│ dropout_2 (<span style=\"color: #0087ff; text-decoration-color: #0087ff\">Dropout</span>)             │ ?                      │             <span style=\"color: #00af00; text-decoration-color: #00af00\">0</span> │\n",
              "├─────────────────────────────────┼────────────────────────┼───────────────┤\n",
              "│ dense_1 (<span style=\"color: #0087ff; text-decoration-color: #0087ff\">Dense</span>)                 │ ?                      │   <span style=\"color: #00af00; text-decoration-color: #00af00\">0</span> (unbuilt) │\n",
              "└─────────────────────────────────┴────────────────────────┴───────────────┘\n",
              "</pre>\n"
            ]
          },
          "metadata": {}
        },
        {
          "output_type": "display_data",
          "data": {
            "text/plain": [
              "\u001b[1m Total params: \u001b[0m\u001b[38;5;34m0\u001b[0m (0.00 B)\n"
            ],
            "text/html": [
              "<pre style=\"white-space:pre;overflow-x:auto;line-height:normal;font-family:Menlo,'DejaVu Sans Mono',consolas,'Courier New',monospace\"><span style=\"font-weight: bold\"> Total params: </span><span style=\"color: #00af00; text-decoration-color: #00af00\">0</span> (0.00 B)\n",
              "</pre>\n"
            ]
          },
          "metadata": {}
        },
        {
          "output_type": "display_data",
          "data": {
            "text/plain": [
              "\u001b[1m Trainable params: \u001b[0m\u001b[38;5;34m0\u001b[0m (0.00 B)\n"
            ],
            "text/html": [
              "<pre style=\"white-space:pre;overflow-x:auto;line-height:normal;font-family:Menlo,'DejaVu Sans Mono',consolas,'Courier New',monospace\"><span style=\"font-weight: bold\"> Trainable params: </span><span style=\"color: #00af00; text-decoration-color: #00af00\">0</span> (0.00 B)\n",
              "</pre>\n"
            ]
          },
          "metadata": {}
        },
        {
          "output_type": "display_data",
          "data": {
            "text/plain": [
              "\u001b[1m Non-trainable params: \u001b[0m\u001b[38;5;34m0\u001b[0m (0.00 B)\n"
            ],
            "text/html": [
              "<pre style=\"white-space:pre;overflow-x:auto;line-height:normal;font-family:Menlo,'DejaVu Sans Mono',consolas,'Courier New',monospace\"><span style=\"font-weight: bold\"> Non-trainable params: </span><span style=\"color: #00af00; text-decoration-color: #00af00\">0</span> (0.00 B)\n",
              "</pre>\n"
            ]
          },
          "metadata": {}
        },
        {
          "output_type": "stream",
          "name": "stdout",
          "text": [
            "None\n"
          ]
        }
      ]
    },
    {
      "cell_type": "code",
      "source": [
        "# Callbacks dengan lebih banyak opsi\n",
        "callbacks = [\n",
        "    EarlyStopping(monitor='val_accuracy',\n",
        "                  patience=3,\n",
        "                  restore_best_weights=True),\n",
        "    ReduceLROnPlateau(monitor='val_loss',\n",
        "                      factor=0.5,\n",
        "                      patience=2,\n",
        "                      min_lr=0.0001),\n",
        "    ModelCheckpoint('best_model1.h5',\n",
        "                    monitor='val_accuracy',\n",
        "                    save_best_only=True)\n",
        "]"
      ],
      "metadata": {
        "id": "o6iMEB66asuy"
      },
      "execution_count": null,
      "outputs": []
    },
    {
      "cell_type": "code",
      "source": [
        "# Training model 1 dengan batch size yang lebih besar\n",
        "batch_size = 64\n",
        "print(f\"\\nMemulai training Model 1 dengan batch size {batch_size}...\")\n",
        "\n",
        "history1 = model1.fit(\n",
        "    X_train_pad, y_train,\n",
        "    epochs=10,\n",
        "    batch_size=batch_size,\n",
        "    validation_split=0.1,\n",
        "    callbacks=callbacks,\n",
        "    verbose=1\n",
        ")"
      ],
      "metadata": {
        "colab": {
          "base_uri": "https://localhost:8080/"
        },
        "id": "KL1WK6_62YmU",
        "outputId": "3a37e0cd-4cbb-49a5-8656-dad6ccaed1b6"
      },
      "execution_count": null,
      "outputs": [
        {
          "output_type": "stream",
          "name": "stdout",
          "text": [
            "\n",
            "Memulai training Model 1 dengan batch size 64...\n",
            "Epoch 1/10\n",
            "\u001b[1m590/590\u001b[0m \u001b[32m━━━━━━━━━━━━━━━━━━━━\u001b[0m\u001b[37m\u001b[0m \u001b[1m0s\u001b[0m 410ms/step - accuracy: 0.8311 - loss: 0.4664"
          ]
        },
        {
          "output_type": "stream",
          "name": "stderr",
          "text": [
            "WARNING:absl:You are saving your model as an HDF5 file via `model.save()` or `keras.saving.save_model(model)`. This file format is considered legacy. We recommend using instead the native Keras format, e.g. `model.save('my_model.keras')` or `keras.saving.save_model(model, 'my_model.keras')`. \n"
          ]
        },
        {
          "output_type": "stream",
          "name": "stdout",
          "text": [
            "\b\b\b\b\b\b\b\b\b\b\b\b\b\b\b\b\b\b\b\b\b\b\b\b\b\b\b\b\b\b\b\b\b\b\b\b\b\b\b\b\b\b\b\b\b\b\b\b\b\b\b\b\b\b\b\b\b\b\b\b\b\b\b\b\b\b\b\b\b\b\b\b\b\b\b\b\r\u001b[1m590/590\u001b[0m \u001b[32m━━━━━━━━━━━━━━━━━━━━\u001b[0m\u001b[37m\u001b[0m \u001b[1m266s\u001b[0m 429ms/step - accuracy: 0.8312 - loss: 0.4662 - val_accuracy: 0.9061 - val_loss: 0.2804 - learning_rate: 0.0010\n",
            "Epoch 2/10\n",
            "\u001b[1m590/590\u001b[0m \u001b[32m━━━━━━━━━━━━━━━━━━━━\u001b[0m\u001b[37m\u001b[0m \u001b[1m259s\u001b[0m 425ms/step - accuracy: 0.9164 - loss: 0.2779 - val_accuracy: 0.9030 - val_loss: 0.2950 - learning_rate: 0.0010\n",
            "Epoch 3/10\n",
            "\u001b[1m590/590\u001b[0m \u001b[32m━━━━━━━━━━━━━━━━━━━━\u001b[0m\u001b[37m\u001b[0m \u001b[1m262s\u001b[0m 425ms/step - accuracy: 0.9288 - loss: 0.2284 - val_accuracy: 0.9042 - val_loss: 0.2956 - learning_rate: 0.0010\n",
            "Epoch 4/10\n",
            "\u001b[1m590/590\u001b[0m \u001b[32m━━━━━━━━━━━━━━━━━━━━\u001b[0m\u001b[37m\u001b[0m \u001b[1m260s\u001b[0m 421ms/step - accuracy: 0.9414 - loss: 0.1841 - val_accuracy: 0.8980 - val_loss: 0.3438 - learning_rate: 5.0000e-04\n"
          ]
        }
      ]
    },
    {
      "cell_type": "code",
      "source": [
        "# Evaluasi model 1\n",
        "print(\"\\nEvaluasi Model 1 pada test set...\")\n",
        "loss1, accuracy1 = model1.evaluate(X_test_pad, y_test, batch_size=batch_size)\n",
        "print(f\"Model 1 - Test Accuracy: {accuracy1*100:.2f}%\")\n",
        "\n"
      ],
      "metadata": {
        "colab": {
          "base_uri": "https://localhost:8080/"
        },
        "id": "l3sepZ-gKVmZ",
        "outputId": "ae33ef6d-9ceb-4c3f-d6d5-72f3f364cba1"
      },
      "execution_count": null,
      "outputs": [
        {
          "output_type": "stream",
          "name": "stdout",
          "text": [
            "\n",
            "Evaluasi Model 1 pada test set...\n",
            "\u001b[1m164/164\u001b[0m \u001b[32m━━━━━━━━━━━━━━━━━━━━\u001b[0m\u001b[37m\u001b[0m \u001b[1m18s\u001b[0m 107ms/step - accuracy: 0.9038 - loss: 0.2991\n",
            "Model 1 - Test Accuracy: 90.16%\n"
          ]
        }
      ]
    },
    {
      "cell_type": "code",
      "source": [
        "# Prediksi dan evaluasi lanjutan\n",
        "y_pred1 = model1.predict(X_test_pad, batch_size=batch_size)\n",
        "y_pred_classes1 = np.argmax(y_pred1, axis=1)\n",
        "\n",
        "print(\"Classification Report - Model 1:\")\n",
        "cr1 = classification_report(y_test, y_pred_classes1, target_names=['negatif', 'netral', 'positif'])\n",
        "print(cr1)"
      ],
      "metadata": {
        "colab": {
          "base_uri": "https://localhost:8080/"
        },
        "id": "mAKeLzI43Hp-",
        "outputId": "e23f924d-093f-4389-d432-e5b9db5594a5"
      },
      "execution_count": null,
      "outputs": [
        {
          "output_type": "stream",
          "name": "stdout",
          "text": [
            "\u001b[1m164/164\u001b[0m \u001b[32m━━━━━━━━━━━━━━━━━━━━\u001b[0m\u001b[37m\u001b[0m \u001b[1m19s\u001b[0m 112ms/step\n",
            "Classification Report - Model 1:\n",
            "              precision    recall  f1-score   support\n",
            "\n",
            "     negatif       0.79      0.92      0.85      2835\n",
            "      netral       0.00      0.00      0.00       371\n",
            "     positif       0.95      0.94      0.95      7280\n",
            "\n",
            "    accuracy                           0.90     10486\n",
            "   macro avg       0.58      0.62      0.60     10486\n",
            "weighted avg       0.88      0.90      0.89     10486\n",
            "\n"
          ]
        }
      ]
    },
    {
      "cell_type": "code",
      "source": [
        "# Plot training history\n",
        "plt.figure(figsize=(12, 5))\n",
        "plt.subplot(1, 2, 1)\n",
        "plt.plot(history1.history['accuracy'])\n",
        "plt.plot(history1.history['val_accuracy'])\n",
        "plt.title('Model 1: Accuracy')\n",
        "plt.ylabel('Accuracy')\n",
        "plt.xlabel('Epoch')\n",
        "plt.legend(['train', 'val'], loc='upper left')\n",
        "\n",
        "plt.subplot(1, 2, 2)\n",
        "plt.plot(history1.history['loss'])\n",
        "plt.plot(history1.history['val_loss'])\n",
        "plt.title('Model 1: Loss')\n",
        "plt.ylabel('Loss')\n",
        "plt.xlabel('Epoch')\n",
        "plt.legend(['train', 'val'], loc='upper left')\n",
        "plt.tight_layout()\n",
        "plt.show()"
      ],
      "metadata": {
        "colab": {
          "base_uri": "https://localhost:8080/",
          "height": 492
        },
        "id": "vyolzBA-3OOo",
        "outputId": "ac594e1f-e407-4135-8ec7-fb55cebbd916"
      },
      "execution_count": null,
      "outputs": [
        {
          "output_type": "display_data",
          "data": {
            "text/plain": [
              "<Figure size 1200x500 with 2 Axes>"
            ],
            "image/png": "[encoded data removed]"
          },
          "metadata": {}
        }
      ]
    },
    {
      "cell_type": "code",
      "source": [
        "# ----------------------------------\n",
        "# MODEL 2: CNN + Global Max Pooling\n",
        "# ----------------------------------\n",
        "\n",
        "def create_cnn_model():\n",
        "    model = Sequential([\n",
        "        Embedding(input_dim=min(vocab_size, vocab_actual_size),\n",
        "                  output_dim=128,\n",
        "                  input_length=max_length),\n",
        "        Conv1D(128, 5, padding='same', activation='relu'),\n",
        "        Conv1D(128, 3, padding='same', activation='relu'),\n",
        "        GlobalMaxPooling1D(),\n",
        "        Dense(64, activation='relu'),\n",
        "        Dropout(0.4),\n",
        "        Dense(3, activation='softmax')\n",
        "    ])\n",
        "\n",
        "    model.compile(\n",
        "        loss='sparse_categorical_crossentropy',\n",
        "        optimizer='adam',\n",
        "        metrics=['accuracy']\n",
        "    )\n",
        "    return model\n",
        "\n",
        "print(\"\\n--- MODEL 2: CNN dengan Global Max Pooling ---\")\n",
        "model2 = create_cnn_model()\n",
        "print(model2.summary())"
      ],
      "metadata": {
        "colab": {
          "base_uri": "https://localhost:8080/",
          "height": 439
        },
        "id": "q3XOBIo93WmQ",
        "outputId": "b98a8c65-792b-4ace-e07b-c4e7ab78094a"
      },
      "execution_count": null,
      "outputs": [
        {
          "output_type": "stream",
          "name": "stdout",
          "text": [
            "\n",
            "--- MODEL 2: CNN dengan Global Max Pooling ---\n"
          ]
        },
        {
          "output_type": "display_data",
          "data": {
            "text/plain": [
              "\u001b[1mModel: \"sequential_1\"\u001b[0m\n"
            ],
            "text/html": [
              "<pre style=\"white-space:pre;overflow-x:auto;line-height:normal;font-family:Menlo,'DejaVu Sans Mono',consolas,'Courier New',monospace\"><span style=\"font-weight: bold\">Model: \"sequential_1\"</span>\n",
              "</pre>\n"
            ]
          },
          "metadata": {}
        },
        {
          "output_type": "display_data",
          "data": {
            "text/plain": [
              "┏━━━━━━━━━━━━━━━━━━━━━━━━━━━━━━━━━┳━━━━━━━━━━━━━━━━━━━━━━━━┳━━━━━━━━━━━━━━━┓\n",
              "┃\u001b[1m \u001b[0m\u001b[1mLayer (type)                   \u001b[0m\u001b[1m \u001b[0m┃\u001b[1m \u001b[0m\u001b[1mOutput Shape          \u001b[0m\u001b[1m \u001b[0m┃\u001b[1m \u001b[0m\u001b[1m      Param #\u001b[0m\u001b[1m \u001b[0m┃\n",
              "┡━━━━━━━━━━━━━━━━━━━━━━━━━━━━━━━━━╇━━━━━━━━━━━━━━━━━━━━━━━━╇━━━━━━━━━━━━━━━┩\n",
              "│ embedding_1 (\u001b[38;5;33mEmbedding\u001b[0m)         │ ?                      │   \u001b[38;5;34m0\u001b[0m (unbuilt) │\n",
              "├─────────────────────────────────┼────────────────────────┼───────────────┤\n",
              "│ conv1d (\u001b[38;5;33mConv1D\u001b[0m)                 │ ?                      │   \u001b[38;5;34m0\u001b[0m (unbuilt) │\n",
              "├─────────────────────────────────┼────────────────────────┼───────────────┤\n",
              "│ conv1d_1 (\u001b[38;5;33mConv1D\u001b[0m)               │ ?                      │   \u001b[38;5;34m0\u001b[0m (unbuilt) │\n",
              "├─────────────────────────────────┼────────────────────────┼───────────────┤\n",
              "│ global_max_pooling1d            │ ?                      │             \u001b[38;5;34m0\u001b[0m │\n",
              "│ (\u001b[38;5;33mGlobalMaxPooling1D\u001b[0m)            │                        │               │\n",
              "├─────────────────────────────────┼────────────────────────┼───────────────┤\n",
              "│ dense_2 (\u001b[38;5;33mDense\u001b[0m)                 │ ?                      │   \u001b[38;5;34m0\u001b[0m (unbuilt) │\n",
              "├─────────────────────────────────┼────────────────────────┼───────────────┤\n",
              "│ dropout_3 (\u001b[38;5;33mDropout\u001b[0m)             │ ?                      │             \u001b[38;5;34m0\u001b[0m │\n",
              "├─────────────────────────────────┼────────────────────────┼───────────────┤\n",
              "│ dense_3 (\u001b[38;5;33mDense\u001b[0m)                 │ ?                      │   \u001b[38;5;34m0\u001b[0m (unbuilt) │\n",
              "└─────────────────────────────────┴────────────────────────┴───────────────┘\n"
            ],
            "text/html": [
              "<pre style=\"white-space:pre;overflow-x:auto;line-height:normal;font-family:Menlo,'DejaVu Sans Mono',consolas,'Courier New',monospace\">┏━━━━━━━━━━━━━━━━━━━━━━━━━━━━━━━━━┳━━━━━━━━━━━━━━━━━━━━━━━━┳━━━━━━━━━━━━━━━┓\n",
              "┃<span style=\"font-weight: bold\"> Layer (type)                    </span>┃<span style=\"font-weight: bold\"> Output Shape           </span>┃<span style=\"font-weight: bold\">       Param # </span>┃\n",
              "┡━━━━━━━━━━━━━━━━━━━━━━━━━━━━━━━━━╇━━━━━━━━━━━━━━━━━━━━━━━━╇━━━━━━━━━━━━━━━┩\n",
              "│ embedding_1 (<span style=\"color: #0087ff; text-decoration-color: #0087ff\">Embedding</span>)         │ ?                      │   <span style=\"color: #00af00; text-decoration-color: #00af00\">0</span> (unbuilt) │\n",
              "├─────────────────────────────────┼────────────────────────┼───────────────┤\n",
              "│ conv1d (<span style=\"color: #0087ff; text-decoration-color: #0087ff\">Conv1D</span>)                 │ ?                      │   <span style=\"color: #00af00; text-decoration-color: #00af00\">0</span> (unbuilt) │\n",
              "├─────────────────────────────────┼────────────────────────┼───────────────┤\n",
              "│ conv1d_1 (<span style=\"color: #0087ff; text-decoration-color: #0087ff\">Conv1D</span>)               │ ?                      │   <span style=\"color: #00af00; text-decoration-color: #00af00\">0</span> (unbuilt) │\n",
              "├─────────────────────────────────┼────────────────────────┼───────────────┤\n",
              "│ global_max_pooling1d            │ ?                      │             <span style=\"color: #00af00; text-decoration-color: #00af00\">0</span> │\n",
              "│ (<span style=\"color: #0087ff; text-decoration-color: #0087ff\">GlobalMaxPooling1D</span>)            │                        │               │\n",
              "├─────────────────────────────────┼────────────────────────┼───────────────┤\n",
              "│ dense_2 (<span style=\"color: #0087ff; text-decoration-color: #0087ff\">Dense</span>)                 │ ?                      │   <span style=\"color: #00af00; text-decoration-color: #00af00\">0</span> (unbuilt) │\n",
              "├─────────────────────────────────┼────────────────────────┼───────────────┤\n",
              "│ dropout_3 (<span style=\"color: #0087ff; text-decoration-color: #0087ff\">Dropout</span>)             │ ?                      │             <span style=\"color: #00af00; text-decoration-color: #00af00\">0</span> │\n",
              "├─────────────────────────────────┼────────────────────────┼───────────────┤\n",
              "│ dense_3 (<span style=\"color: #0087ff; text-decoration-color: #0087ff\">Dense</span>)                 │ ?                      │   <span style=\"color: #00af00; text-decoration-color: #00af00\">0</span> (unbuilt) │\n",
              "└─────────────────────────────────┴────────────────────────┴───────────────┘\n",
              "</pre>\n"
            ]
          },
          "metadata": {}
        },
        {
          "output_type": "display_data",
          "data": {
            "text/plain": [
              "\u001b[1m Total params: \u001b[0m\u001b[38;5;34m0\u001b[0m (0.00 B)\n"
            ],
            "text/html": [
              "<pre style=\"white-space:pre;overflow-x:auto;line-height:normal;font-family:Menlo,'DejaVu Sans Mono',consolas,'Courier New',monospace\"><span style=\"font-weight: bold\"> Total params: </span><span style=\"color: #00af00; text-decoration-color: #00af00\">0</span> (0.00 B)\n",
              "</pre>\n"
            ]
          },
          "metadata": {}
        },
        {
          "output_type": "display_data",
          "data": {
            "text/plain": [
              "\u001b[1m Trainable params: \u001b[0m\u001b[38;5;34m0\u001b[0m (0.00 B)\n"
            ],
            "text/html": [
              "<pre style=\"white-space:pre;overflow-x:auto;line-height:normal;font-family:Menlo,'DejaVu Sans Mono',consolas,'Courier New',monospace\"><span style=\"font-weight: bold\"> Trainable params: </span><span style=\"color: #00af00; text-decoration-color: #00af00\">0</span> (0.00 B)\n",
              "</pre>\n"
            ]
          },
          "metadata": {}
        },
        {
          "output_type": "display_data",
          "data": {
            "text/plain": [
              "\u001b[1m Non-trainable params: \u001b[0m\u001b[38;5;34m0\u001b[0m (0.00 B)\n"
            ],
            "text/html": [
              "<pre style=\"white-space:pre;overflow-x:auto;line-height:normal;font-family:Menlo,'DejaVu Sans Mono',consolas,'Courier New',monospace\"><span style=\"font-weight: bold\"> Non-trainable params: </span><span style=\"color: #00af00; text-decoration-color: #00af00\">0</span> (0.00 B)\n",
              "</pre>\n"
            ]
          },
          "metadata": {}
        },
        {
          "output_type": "stream",
          "name": "stdout",
          "text": [
            "None\n"
          ]
        }
      ]
    },
    {
      "cell_type": "code",
      "source": [
        "# Training model 2\n",
        "print(f\"\\nMemulai training Model 2 dengan batch size {batch_size}...\")\n",
        "history2 = model2.fit(\n",
        "    X_train_pad, y_train,\n",
        "    epochs=10,\n",
        "    batch_size=batch_size,\n",
        "    validation_split=0.1,\n",
        "    callbacks=callbacks,\n",
        "    verbose=1\n",
        ")"
      ],
      "metadata": {
        "colab": {
          "base_uri": "https://localhost:8080/"
        },
        "id": "appkg-fgAXNK",
        "outputId": "2023703d-fb80-49d6-8a1a-1cdae2fc3d6e"
      },
      "execution_count": null,
      "outputs": [
        {
          "output_type": "stream",
          "name": "stdout",
          "text": [
            "\n",
            "Memulai training Model 2 dengan batch size 64...\n",
            "Epoch 1/10\n",
            "\u001b[1m590/590\u001b[0m \u001b[32m━━━━━━━━━━━━━━━━━━━━\u001b[0m\u001b[37m\u001b[0m \u001b[1m114s\u001b[0m 193ms/step - accuracy: 0.9215 - loss: 0.2474 - val_accuracy: 0.9051 - val_loss: 0.2880 - learning_rate: 5.0000e-04\n",
            "Epoch 2/10\n",
            "\u001b[1m590/590\u001b[0m \u001b[32m━━━━━━━━━━━━━━━━━━━━\u001b[0m\u001b[37m\u001b[0m \u001b[1m94s\u001b[0m 159ms/step - accuracy: 0.9366 - loss: 0.2021 - val_accuracy: 0.9011 - val_loss: 0.3027 - learning_rate: 5.0000e-04\n",
            "Epoch 3/10\n",
            "\u001b[1m590/590\u001b[0m \u001b[32m━━━━━━━━━━━━━━━━━━━━\u001b[0m\u001b[37m\u001b[0m \u001b[1m93s\u001b[0m 158ms/step - accuracy: 0.9470 - loss: 0.1595 - val_accuracy: 0.8961 - val_loss: 0.3400 - learning_rate: 5.0000e-04\n",
            "Epoch 4/10\n",
            "\u001b[1m590/590\u001b[0m \u001b[32m━━━━━━━━━━━━━━━━━━━━\u001b[0m\u001b[37m\u001b[0m \u001b[1m144s\u001b[0m 162ms/step - accuracy: 0.9601 - loss: 0.1251 - val_accuracy: 0.8884 - val_loss: 0.4163 - learning_rate: 2.5000e-04\n"
          ]
        }
      ]
    },
    {
      "cell_type": "code",
      "source": [
        "# Evaluasi model 2\n",
        "print(\"\\nEvaluasi Model 2 pada test set...\")\n",
        "loss2, accuracy2 = model2.evaluate(X_test_pad, y_test, batch_size=batch_size)\n",
        "print(f\"Model 2 - Test Accuracy: {accuracy2*100:.2f}%\")"
      ],
      "metadata": {
        "colab": {
          "base_uri": "https://localhost:8080/"
        },
        "id": "7n0RKnmpAcof",
        "outputId": "4bcb81dd-07e2-41b5-a6f9-6f7d839ed64a"
      },
      "execution_count": null,
      "outputs": [
        {
          "output_type": "stream",
          "name": "stdout",
          "text": [
            "\n",
            "Evaluasi Model 2 pada test set...\n",
            "\u001b[1m164/164\u001b[0m \u001b[32m━━━━━━━━━━━━━━━━━━━━\u001b[0m\u001b[37m\u001b[0m \u001b[1m12s\u001b[0m 73ms/step - accuracy: 0.9039 - loss: 0.3101\n",
            "Model 2 - Test Accuracy: 90.26%\n"
          ]
        }
      ]
    },
    {
      "cell_type": "code",
      "source": [
        "# Prediksi dan evaluasi lanjutan\n",
        "y_pred2 = model2.predict(X_test_pad, batch_size=batch_size)\n",
        "y_pred_classes2 = np.argmax(y_pred2, axis=1)\n",
        "\n",
        "print(\"Classification Report - Model 2:\")\n",
        "cr2 = classification_report(y_test, y_pred_classes2, target_names=['negatif', 'netral', 'positif'])\n",
        "print(cr2)"
      ],
      "metadata": {
        "colab": {
          "base_uri": "https://localhost:8080/"
        },
        "id": "9twWhvTeAwFy",
        "outputId": "91864992-54fa-4d54-a287-23f7a0323715"
      },
      "execution_count": null,
      "outputs": [
        {
          "output_type": "stream",
          "name": "stdout",
          "text": [
            "\u001b[1m164/164\u001b[0m \u001b[32m━━━━━━━━━━━━━━━━━━━━\u001b[0m\u001b[37m\u001b[0m \u001b[1m9s\u001b[0m 54ms/step\n",
            "Classification Report - Model 2:\n",
            "              precision    recall  f1-score   support\n",
            "\n",
            "     negatif       0.78      0.94      0.85      2835\n",
            "      netral       0.00      0.00      0.00       371\n",
            "     positif       0.96      0.93      0.95      7280\n",
            "\n",
            "    accuracy                           0.90     10486\n",
            "   macro avg       0.58      0.63      0.60     10486\n",
            "weighted avg       0.88      0.90      0.89     10486\n",
            "\n"
          ]
        }
      ]
    },
    {
      "cell_type": "code",
      "source": [
        "# Plot training history\n",
        "plt.figure(figsize=(12, 5))\n",
        "plt.subplot(1, 2, 1)\n",
        "plt.plot(history2.history['accuracy'])\n",
        "plt.plot(history2.history['val_accuracy'])\n",
        "plt.title('Model 2: Accuracy')\n",
        "plt.ylabel('Accuracy')\n",
        "plt.xlabel('Epoch')\n",
        "plt.legend(['train', 'val'], loc='upper left')\n",
        "\n",
        "plt.subplot(1, 2, 2)\n",
        "plt.plot(history2.history['loss'])\n",
        "plt.plot(history2.history['val_loss'])\n",
        "plt.title('Model 2: Loss')\n",
        "plt.ylabel('Loss')\n",
        "plt.xlabel('Epoch')\n",
        "plt.legend(['train', 'val'], loc='upper left')\n",
        "plt.tight_layout()\n",
        "plt.show()"
      ],
      "metadata": {
        "colab": {
          "base_uri": "https://localhost:8080/",
          "height": 492
        },
        "id": "DT2b6zCtA4Ef",
        "outputId": "059b9aeb-8f99-4661-9737-e4ccff7f5812"
      },
      "execution_count": null,
      "outputs": [
        {
          "output_type": "display_data",
          "data": {
            "text/plain": [
              "<Figure size 1200x500 with 2 Axes>"
            ],
            "image/png": "[encoded data removed]"
          },
          "metadata": {}
        }
      ]
    },
    {
      "cell_type": "code",
      "source": [
        "# ----------------------------------\n",
        "# MODEL 3: Hybrid CNN-LSTM\n",
        "# ----------------------------------\n",
        "\n",
        "def create_cnn_lstm_model():\n",
        "    model = Sequential([\n",
        "        Embedding(input_dim=min(vocab_size, vocab_actual_size),\n",
        "                  output_dim=128,\n",
        "                  input_length=max_length),\n",
        "        Conv1D(128, 3, padding='same', activation='relu'),\n",
        "        MaxPooling1D(pool_size=2),\n",
        "        LSTM(64, return_sequences=False),\n",
        "        Dropout(0.4),\n",
        "        Dense(32, activation='relu'),\n",
        "        Dropout(0.3),\n",
        "        Dense(3, activation='softmax')\n",
        "    ])\n",
        "\n",
        "    model.compile(\n",
        "        loss='sparse_categorical_crossentropy',\n",
        "        optimizer='adam',\n",
        "        metrics=['accuracy']\n",
        "    )\n",
        "    return model\n",
        "\n",
        "print(\"\\n--- MODEL 3: Hybrid CNN-LSTM ---\")\n",
        "model3 = create_cnn_lstm_model()\n",
        "print(model3.summary())"
      ],
      "metadata": {
        "colab": {
          "base_uri": "https://localhost:8080/",
          "height": 455
        },
        "id": "QWKrPIyXA8ET",
        "outputId": "2f2e9782-6c47-4900-cb81-be94aa793b2c"
      },
      "execution_count": null,
      "outputs": [
        {
          "output_type": "stream",
          "name": "stdout",
          "text": [
            "\n",
            "--- MODEL 3: Hybrid CNN-LSTM ---\n"
          ]
        },
        {
          "output_type": "display_data",
          "data": {
            "text/plain": [
              "\u001b[1mModel: \"sequential_2\"\u001b[0m\n"
            ],
            "text/html": [
              "<pre style=\"white-space:pre;overflow-x:auto;line-height:normal;font-family:Menlo,'DejaVu Sans Mono',consolas,'Courier New',monospace\"><span style=\"font-weight: bold\">Model: \"sequential_2\"</span>\n",
              "</pre>\n"
            ]
          },
          "metadata": {}
        },
        {
          "output_type": "display_data",
          "data": {
            "text/plain": [
              "┏━━━━━━━━━━━━━━━━━━━━━━━━━━━━━━━━━┳━━━━━━━━━━━━━━━━━━━━━━━━┳━━━━━━━━━━━━━━━┓\n",
              "┃\u001b[1m \u001b[0m\u001b[1mLayer (type)                   \u001b[0m\u001b[1m \u001b[0m┃\u001b[1m \u001b[0m\u001b[1mOutput Shape          \u001b[0m\u001b[1m \u001b[0m┃\u001b[1m \u001b[0m\u001b[1m      Param #\u001b[0m\u001b[1m \u001b[0m┃\n",
              "┡━━━━━━━━━━━━━━━━━━━━━━━━━━━━━━━━━╇━━━━━━━━━━━━━━━━━━━━━━━━╇━━━━━━━━━━━━━━━┩\n",
              "│ embedding_2 (\u001b[38;5;33mEmbedding\u001b[0m)         │ ?                      │   \u001b[38;5;34m0\u001b[0m (unbuilt) │\n",
              "├─────────────────────────────────┼────────────────────────┼───────────────┤\n",
              "│ conv1d_2 (\u001b[38;5;33mConv1D\u001b[0m)               │ ?                      │   \u001b[38;5;34m0\u001b[0m (unbuilt) │\n",
              "├─────────────────────────────────┼────────────────────────┼───────────────┤\n",
              "│ max_pooling1d (\u001b[38;5;33mMaxPooling1D\u001b[0m)    │ ?                      │             \u001b[38;5;34m0\u001b[0m │\n",
              "├─────────────────────────────────┼────────────────────────┼───────────────┤\n",
              "│ lstm_2 (\u001b[38;5;33mLSTM\u001b[0m)                   │ ?                      │   \u001b[38;5;34m0\u001b[0m (unbuilt) │\n",
              "├─────────────────────────────────┼────────────────────────┼───────────────┤\n",
              "│ dropout_4 (\u001b[38;5;33mDropout\u001b[0m)             │ ?                      │             \u001b[38;5;34m0\u001b[0m │\n",
              "├─────────────────────────────────┼────────────────────────┼───────────────┤\n",
              "│ dense_4 (\u001b[38;5;33mDense\u001b[0m)                 │ ?                      │   \u001b[38;5;34m0\u001b[0m (unbuilt) │\n",
              "├─────────────────────────────────┼────────────────────────┼───────────────┤\n",
              "│ dropout_5 (\u001b[38;5;33mDropout\u001b[0m)             │ ?                      │             \u001b[38;5;34m0\u001b[0m │\n",
              "├─────────────────────────────────┼────────────────────────┼───────────────┤\n",
              "│ dense_5 (\u001b[38;5;33mDense\u001b[0m)                 │ ?                      │   \u001b[38;5;34m0\u001b[0m (unbuilt) │\n",
              "└─────────────────────────────────┴────────────────────────┴───────────────┘\n"
            ],
            "text/html": [
              "<pre style=\"white-space:pre;overflow-x:auto;line-height:normal;font-family:Menlo,'DejaVu Sans Mono',consolas,'Courier New',monospace\">┏━━━━━━━━━━━━━━━━━━━━━━━━━━━━━━━━━┳━━━━━━━━━━━━━━━━━━━━━━━━┳━━━━━━━━━━━━━━━┓\n",
              "┃<span style=\"font-weight: bold\"> Layer (type)                    </span>┃<span style=\"font-weight: bold\"> Output Shape           </span>┃<span style=\"font-weight: bold\">       Param # </span>┃\n",
              "┡━━━━━━━━━━━━━━━━━━━━━━━━━━━━━━━━━╇━━━━━━━━━━━━━━━━━━━━━━━━╇━━━━━━━━━━━━━━━┩\n",
              "│ embedding_2 (<span style=\"color: #0087ff; text-decoration-color: #0087ff\">Embedding</span>)         │ ?                      │   <span style=\"color: #00af00; text-decoration-color: #00af00\">0</span> (unbuilt) │\n",
              "├─────────────────────────────────┼────────────────────────┼───────────────┤\n",
              "│ conv1d_2 (<span style=\"color: #0087ff; text-decoration-color: #0087ff\">Conv1D</span>)               │ ?                      │   <span style=\"color: #00af00; text-decoration-color: #00af00\">0</span> (unbuilt) │\n",
              "├─────────────────────────────────┼────────────────────────┼───────────────┤\n",
              "│ max_pooling1d (<span style=\"color: #0087ff; text-decoration-color: #0087ff\">MaxPooling1D</span>)    │ ?                      │             <span style=\"color: #00af00; text-decoration-color: #00af00\">0</span> │\n",
              "├─────────────────────────────────┼────────────────────────┼───────────────┤\n",
              "│ lstm_2 (<span style=\"color: #0087ff; text-decoration-color: #0087ff\">LSTM</span>)                   │ ?                      │   <span style=\"color: #00af00; text-decoration-color: #00af00\">0</span> (unbuilt) │\n",
              "├─────────────────────────────────┼────────────────────────┼───────────────┤\n",
              "│ dropout_4 (<span style=\"color: #0087ff; text-decoration-color: #0087ff\">Dropout</span>)             │ ?                      │             <span style=\"color: #00af00; text-decoration-color: #00af00\">0</span> │\n",
              "├─────────────────────────────────┼────────────────────────┼───────────────┤\n",
              "│ dense_4 (<span style=\"color: #0087ff; text-decoration-color: #0087ff\">Dense</span>)                 │ ?                      │   <span style=\"color: #00af00; text-decoration-color: #00af00\">0</span> (unbuilt) │\n",
              "├─────────────────────────────────┼────────────────────────┼───────────────┤\n",
              "│ dropout_5 (<span style=\"color: #0087ff; text-decoration-color: #0087ff\">Dropout</span>)             │ ?                      │             <span style=\"color: #00af00; text-decoration-color: #00af00\">0</span> │\n",
              "├─────────────────────────────────┼────────────────────────┼───────────────┤\n",
              "│ dense_5 (<span style=\"color: #0087ff; text-decoration-color: #0087ff\">Dense</span>)                 │ ?                      │   <span style=\"color: #00af00; text-decoration-color: #00af00\">0</span> (unbuilt) │\n",
              "└─────────────────────────────────┴────────────────────────┴───────────────┘\n",
              "</pre>\n"
            ]
          },
          "metadata": {}
        },
        {
          "output_type": "display_data",
          "data": {
            "text/plain": [
              "\u001b[1m Total params: \u001b[0m\u001b[38;5;34m0\u001b[0m (0.00 B)\n"
            ],
            "text/html": [
              "<pre style=\"white-space:pre;overflow-x:auto;line-height:normal;font-family:Menlo,'DejaVu Sans Mono',consolas,'Courier New',monospace\"><span style=\"font-weight: bold\"> Total params: </span><span style=\"color: #00af00; text-decoration-color: #00af00\">0</span> (0.00 B)\n",
              "</pre>\n"
            ]
          },
          "metadata": {}
        },
        {
          "output_type": "display_data",
          "data": {
            "text/plain": [
              "\u001b[1m Trainable params: \u001b[0m\u001b[38;5;34m0\u001b[0m (0.00 B)\n"
            ],
            "text/html": [
              "<pre style=\"white-space:pre;overflow-x:auto;line-height:normal;font-family:Menlo,'DejaVu Sans Mono',consolas,'Courier New',monospace\"><span style=\"font-weight: bold\"> Trainable params: </span><span style=\"color: #00af00; text-decoration-color: #00af00\">0</span> (0.00 B)\n",
              "</pre>\n"
            ]
          },
          "metadata": {}
        },
        {
          "output_type": "display_data",
          "data": {
            "text/plain": [
              "\u001b[1m Non-trainable params: \u001b[0m\u001b[38;5;34m0\u001b[0m (0.00 B)\n"
            ],
            "text/html": [
              "<pre style=\"white-space:pre;overflow-x:auto;line-height:normal;font-family:Menlo,'DejaVu Sans Mono',consolas,'Courier New',monospace\"><span style=\"font-weight: bold\"> Non-trainable params: </span><span style=\"color: #00af00; text-decoration-color: #00af00\">0</span> (0.00 B)\n",
              "</pre>\n"
            ]
          },
          "metadata": {}
        },
        {
          "output_type": "stream",
          "name": "stdout",
          "text": [
            "None\n"
          ]
        }
      ]
    },
    {
      "cell_type": "code",
      "source": [
        "# Training model 3\n",
        "print(f\"\\nMemulai training Model 3 dengan batch size {batch_size}...\")\n",
        "history3 = model3.fit(\n",
        "    X_train_pad, y_train,\n",
        "    epochs=10,\n",
        "    batch_size=batch_size,\n",
        "    validation_split=0.1,\n",
        "    callbacks=callbacks,\n",
        "    verbose=1\n",
        ")"
      ],
      "metadata": {
        "colab": {
          "base_uri": "https://localhost:8080/"
        },
        "id": "BPHeT9omK9WG",
        "outputId": "b442114c-4f58-49e9-a440-03d32eac3f96"
      },
      "execution_count": null,
      "outputs": [
        {
          "output_type": "stream",
          "name": "stdout",
          "text": [
            "\n",
            "Memulai training Model 3 dengan batch size 64...\n",
            "Epoch 1/10\n",
            "\u001b[1m590/590\u001b[0m \u001b[32m━━━━━━━━━━━━━━━━━━━━\u001b[0m\u001b[37m\u001b[0m \u001b[1m89s\u001b[0m 142ms/step - accuracy: 0.7446 - loss: 0.6357 - val_accuracy: 0.7039 - val_loss: 0.7034 - learning_rate: 0.0010\n",
            "Epoch 2/10\n",
            "\u001b[1m590/590\u001b[0m \u001b[32m━━━━━━━━━━━━━━━━━━━━\u001b[0m\u001b[37m\u001b[0m \u001b[1m84s\u001b[0m 143ms/step - accuracy: 0.6941 - loss: 0.7338 - val_accuracy: 0.7039 - val_loss: 0.7187 - learning_rate: 0.0010\n",
            "Epoch 3/10\n",
            "\u001b[1m590/590\u001b[0m \u001b[32m━━━━━━━━━━━━━━━━━━━━\u001b[0m\u001b[37m\u001b[0m \u001b[1m144s\u001b[0m 146ms/step - accuracy: 0.6912 - loss: 0.7409 - val_accuracy: 0.7039 - val_loss: 0.7176 - learning_rate: 0.0010\n",
            "Epoch 4/10\n",
            "\u001b[1m590/590\u001b[0m \u001b[32m━━━━━━━━━━━━━━━━━━━━\u001b[0m\u001b[37m\u001b[0m \u001b[1m144s\u001b[0m 149ms/step - accuracy: 0.6955 - loss: 0.7302 - val_accuracy: 0.7039 - val_loss: 0.7164 - learning_rate: 5.0000e-04\n"
          ]
        }
      ]
    },
    {
      "cell_type": "code",
      "source": [
        "# Evaluasi model 3\n",
        "print(\"\\nEvaluasi Model 3 pada test set...\")\n",
        "loss3, accuracy3 = model3.evaluate(X_test_pad, y_test, batch_size=batch_size)\n",
        "print(f\"Model 3 - Test Accuracy: {accuracy3*100:.2f}%\")"
      ],
      "metadata": {
        "colab": {
          "base_uri": "https://localhost:8080/"
        },
        "id": "AioUTDjZLNYQ",
        "outputId": "e611988c-85a0-4487-d5b0-0a7f95c30bf9"
      },
      "execution_count": null,
      "outputs": [
        {
          "output_type": "stream",
          "name": "stdout",
          "text": [
            "\n",
            "Evaluasi Model 3 pada test set...\n",
            "\u001b[1m164/164\u001b[0m \u001b[32m━━━━━━━━━━━━━━━━━━━━\u001b[0m\u001b[37m\u001b[0m \u001b[1m11s\u001b[0m 64ms/step - accuracy: 0.6903 - loss: 0.7150\n",
            "Model 3 - Test Accuracy: 69.43%\n"
          ]
        }
      ]
    },
    {
      "cell_type": "code",
      "source": [
        "# Prediksi dan evaluasi lanjutan\n",
        "y_pred3 = model3.predict(X_test_pad, batch_size=batch_size)\n",
        "y_pred_classes3 = np.argmax(y_pred3, axis=1)\n",
        "\n",
        "print(\"Classification Report - Model 3:\")\n",
        "cr3 = classification_report(y_test, y_pred_classes3, target_names=['negatif', 'netral', 'positif'])\n",
        "print(cr3)"
      ],
      "metadata": {
        "colab": {
          "base_uri": "https://localhost:8080/"
        },
        "id": "o_YMejv5LXCz",
        "outputId": "f22089a8-c7ca-4e37-be37-60649c461980"
      },
      "execution_count": null,
      "outputs": [
        {
          "output_type": "stream",
          "name": "stdout",
          "text": [
            "\u001b[1m164/164\u001b[0m \u001b[32m━━━━━━━━━━━━━━━━━━━━\u001b[0m\u001b[37m\u001b[0m \u001b[1m8s\u001b[0m 44ms/step\n",
            "Classification Report - Model 3:\n",
            "              precision    recall  f1-score   support\n",
            "\n",
            "     negatif       0.00      0.00      0.00      2835\n",
            "      netral       0.00      0.00      0.00       371\n",
            "     positif       0.69      1.00      0.82      7280\n",
            "\n",
            "    accuracy                           0.69     10486\n",
            "   macro avg       0.23      0.33      0.27     10486\n",
            "weighted avg       0.48      0.69      0.57     10486\n",
            "\n"
          ]
        }
      ]
    },
    {
      "cell_type": "code",
      "source": [
        "# Plot training history\n",
        "plt.figure(figsize=(12, 5))\n",
        "plt.subplot(1, 2, 1)\n",
        "plt.plot(history3.history['accuracy'])\n",
        "plt.plot(history3.history['val_accuracy'])\n",
        "plt.title('Model 3: Accuracy')\n",
        "plt.ylabel('Accuracy')\n",
        "plt.xlabel('Epoch')\n",
        "plt.legend(['train', 'val'], loc='upper left')\n",
        "\n",
        "plt.subplot(1, 2, 2)\n",
        "plt.plot(history3.history['loss'])\n",
        "plt.plot(history3.history['val_loss'])\n",
        "plt.title('Model 3: Loss')\n",
        "plt.ylabel('Loss')\n",
        "plt.xlabel('Epoch')\n",
        "plt.legend(['train', 'val'], loc='upper left')\n",
        "plt.tight_layout()\n",
        "plt.show()"
      ],
      "metadata": {
        "colab": {
          "base_uri": "https://localhost:8080/",
          "height": 492
        },
        "id": "EVQWxDF-LbQK",
        "outputId": "3981314a-9308-41c3-c446-f9c95bce8824"
      },
      "execution_count": null,
      "outputs": [
        {
          "output_type": "display_data",
          "data": {
            "text/plain": [
              "<Figure size 1200x500 with 2 Axes>"
            ],
            "image/png": "[encoded data removed]"
          },
          "metadata": {}
        }
      ]
    },
    {
      "cell_type": "code",
      "source": [
        "# ----------------------------------\n",
        "# Perbandingan Ketiga Model\n",
        "# ----------------------------------\n",
        "print(\"\\n--- Perbandingan Akurasi Ketiga Model ---\")\n",
        "comparison = pd.DataFrame({\n",
        "    'Model': ['BiLSTM', 'CNN', 'CNN-LSTM'],\n",
        "    'Akurasi Training': [\n",
        "        history1.history['accuracy'][-1]*100,\n",
        "        history2.history['accuracy'][-1]*100,\n",
        "        history3.history['accuracy'][-1]*100\n",
        "    ],\n",
        "    'Akurasi Testing': [\n",
        "        accuracy1*100,\n",
        "        accuracy2*100,\n",
        "        accuracy3*100\n",
        "    ]\n",
        "})\n",
        "print(comparison)"
      ],
      "metadata": {
        "colab": {
          "base_uri": "https://localhost:8080/"
        },
        "id": "M0P2T869LhLT",
        "outputId": "4bf7d343-891a-4e15-a58f-bf47da5610eb"
      },
      "execution_count": null,
      "outputs": [
        {
          "output_type": "stream",
          "name": "stdout",
          "text": [
            "\n",
            "--- Perbandingan Akurasi Ketiga Model ---\n",
            "      Model  Akurasi Training  Akurasi Testing\n",
            "0    BiLSTM         93.925667        90.158308\n",
            "1       CNN         96.058172        90.263206\n",
            "2  CNN-LSTM         69.318390        69.425899\n"
          ]
        }
      ]
    },
    {
      "cell_type": "code",
      "source": [
        "# Plot perbandingan\n",
        "plt.figure(figsize=(10, 6))\n",
        "bar_width = 0.35\n",
        "index = np.arange(3)\n",
        "\n",
        "plt.bar(index, comparison['Akurasi Training'], bar_width, label='Training')\n",
        "plt.bar(index + bar_width, comparison['Akurasi Testing'], bar_width, label='Testing')\n",
        "\n",
        "plt.xlabel('Model')\n",
        "plt.ylabel('Akurasi (%)')\n",
        "plt.title('Perbandingan Akurasi Model')\n",
        "plt.xticks(index + bar_width/2, comparison['Model'])\n",
        "plt.legend()\n",
        "plt.tight_layout()\n",
        "plt.show()"
      ],
      "metadata": {
        "id": "MXcnqnQtLuFN",
        "colab": {
          "base_uri": "https://localhost:8080/",
          "height": 607
        },
        "outputId": "171b3680-14ac-4762-cb52-4a6cd55a58b0"
      },
      "execution_count": null,
      "outputs": [
        {
          "output_type": "display_data",
          "data": {
            "text/plain": [
              "<Figure size 1000x600 with 1 Axes>"
            ],
            "image/png": "[encoded data removed]"
          },
          "metadata": {}
        }
      ]
    },
    {
      "cell_type": "code",
      "source": [
        "# ----------------------------------\n",
        "# Fungsi Inferensi untuk Model Terbaik\n",
        "# ----------------------------------\n",
        "def predict_sentiment(text, model, tokenizer):\n",
        "    # Praproses teks\n",
        "    processed_text = preprocess_text(text)\n",
        "\n",
        "    # Tokenisasi dan padding\n",
        "    sequence = tokenizer.texts_to_sequences([processed_text])\n",
        "    padded = pad_sequences(sequence, maxlen=max_length, padding='post')\n",
        "\n",
        "    # Prediksi\n",
        "    prediction = model.predict(padded)[0]\n",
        "    predicted_class = np.argmax(prediction)\n",
        "\n",
        "    # Mengkonversi kembali ke label sentimen\n",
        "    sentiments = {0: 'negatif', 1: 'netral', 2: 'positif'}\n",
        "    sentiment = sentiments[predicted_class]\n",
        "\n",
        "    confidence = prediction[predicted_class] * 100\n",
        "\n",
        "    return {\n",
        "        'text': text,\n",
        "        'processed': processed_text,\n",
        "        'sentiment': sentiment,\n",
        "        'confidence': confidence,\n",
        "        'probabilities': {\n",
        "            'negatif': prediction[0] * 100,\n",
        "            'netral': prediction[1] * 100,\n",
        "            'positif': prediction[2] * 100\n",
        "        }\n",
        "    }"
      ],
      "metadata": {
        "id": "UQ9Bw8luLxzy"
      },
      "execution_count": null,
      "outputs": []
    },
    {
      "cell_type": "code",
      "source": [
        "# Cari model dengan akurasi terbaik\n",
        "best_accuracy = max(accuracy1, accuracy2, accuracy3)\n",
        "if best_accuracy == accuracy1:\n",
        "    best_model = model1\n",
        "    best_tokenizer = tokenizer\n",
        "    model_name = \"BiLSTM\"\n",
        "elif best_accuracy == accuracy2:\n",
        "    best_model = model2\n",
        "    best_tokenizer = tokenizer\n",
        "    model_name = \"CNN\"\n",
        "else:\n",
        "    best_model = model3\n",
        "    best_tokenizer = tokenizer\n",
        "    model_name = \"CNN-LSTM\"\n",
        "\n",
        "print(f\"\\nModel terbaik adalah {model_name} dengan akurasi {best_accuracy*100:.2f}%\")"
      ],
      "metadata": {
        "colab": {
          "base_uri": "https://localhost:8080/"
        },
        "id": "KkUeB4YWL4RD",
        "outputId": "ca72eca8-12ac-4149-8d3b-e08d5e44c3e1"
      },
      "execution_count": null,
      "outputs": [
        {
          "output_type": "stream",
          "name": "stdout",
          "text": [
            "\n",
            "Model terbaik adalah CNN dengan akurasi 90.26%\n"
          ]
        }
      ]
    },
    {
      "cell_type": "code",
      "source": [
        "# ----------------------------------\n",
        "# Uji inferensi dengan beberapa contoh\n",
        "# ----------------------------------\n",
        "test_examples = [\n",
        "    \"Aplikasi bagus, sangat membantu aktivitas sehari-hari\",\n",
        "    \"Aplikasi ini seringkali error dan membuat saya kecewa\",\n",
        "    \"Biasa saja, tidak ada yang spesial\",\n",
        "    \"Tolong diperbaiki lagi fiturnya, masih banyak bug\",\n",
        "    \"Layanan pengirimannya cepat sekali, terimakasih gojek!\"\n",
        "]\n",
        "\n",
        "print(\"\\n--- Hasil Inferensi dengan Model Terbaik ---\")\n",
        "for text in test_examples:\n",
        "    result = predict_sentiment(text, best_model, best_tokenizer)\n",
        "    print(f\"Teks: {result['text']}\")\n",
        "    print(f\"Sentimen: {result['sentiment']} (confidence: {result['confidence']:.2f}%)\")\n",
        "    print(f\"Probabilitas: Negatif={result['probabilities']['negatif']:.2f}%, Netral={result['probabilities']['netral']:.2f}%, Positif={result['probabilities']['positif']:.2f}%\")\n",
        "    print(\"-\" * 50)"
      ],
      "metadata": {
        "colab": {
          "base_uri": "https://localhost:8080/"
        },
        "id": "UQRCTXkjL7cr",
        "outputId": "0c709319-b115-4c74-e362-cf998f191efd"
      },
      "execution_count": null,
      "outputs": [
        {
          "output_type": "stream",
          "name": "stdout",
          "text": [
            "\n",
            "--- Hasil Inferensi dengan Model Terbaik ---\n",
            "\u001b[1m1/1\u001b[0m \u001b[32m━━━━━━━━━━━━━━━━━━━━\u001b[0m\u001b[37m\u001b[0m \u001b[1m0s\u001b[0m 93ms/step\n",
            "Teks: Aplikasi bagus, sangat membantu aktivitas sehari-hari\n",
            "Sentimen: positif (confidence: 99.86%)\n",
            "Probabilitas: Negatif=0.08%, Netral=0.07%, Positif=99.86%\n",
            "--------------------------------------------------\n",
            "\u001b[1m1/1\u001b[0m \u001b[32m━━━━━━━━━━━━━━━━━━━━\u001b[0m\u001b[37m\u001b[0m \u001b[1m0s\u001b[0m 70ms/step\n",
            "Teks: Aplikasi ini seringkali error dan membuat saya kecewa\n",
            "Sentimen: negatif (confidence: 80.56%)\n",
            "Probabilitas: Negatif=80.56%, Netral=6.32%, Positif=13.12%\n",
            "--------------------------------------------------\n",
            "\u001b[1m1/1\u001b[0m \u001b[32m━━━━━━━━━━━━━━━━━━━━\u001b[0m\u001b[37m\u001b[0m \u001b[1m0s\u001b[0m 64ms/step\n",
            "Teks: Biasa saja, tidak ada yang spesial\n",
            "Sentimen: negatif (confidence: 85.95%)\n",
            "Probabilitas: Negatif=85.95%, Netral=6.25%, Positif=7.80%\n",
            "--------------------------------------------------\n",
            "\u001b[1m1/1\u001b[0m \u001b[32m━━━━━━━━━━━━━━━━━━━━\u001b[0m\u001b[37m\u001b[0m \u001b[1m0s\u001b[0m 57ms/step\n",
            "Teks: Tolong diperbaiki lagi fiturnya, masih banyak bug\n",
            "Sentimen: negatif (confidence: 46.76%)\n",
            "Probabilitas: Negatif=46.76%, Netral=8.67%, Positif=44.57%\n",
            "--------------------------------------------------\n",
            "\u001b[1m1/1\u001b[0m \u001b[32m━━━━━━━━━━━━━━━━━━━━\u001b[0m\u001b[37m\u001b[0m \u001b[1m0s\u001b[0m 63ms/step\n",
            "Teks: Layanan pengirimannya cepat sekali, terimakasih gojek!\n",
            "Sentimen: positif (confidence: 99.60%)\n",
            "Probabilitas: Negatif=0.23%, Netral=0.17%, Positif=99.60%\n",
            "--------------------------------------------------\n"
          ]
        }
      ]
    },
    {
      "cell_type": "code",
      "source": [
        "# Inferensi untuk beberapa sampel dari dataset asli\n",
        "random_samples = df.sample(5)\n",
        "print(\"\\n--- Inferensi Sampel dari Dataset Asli ---\")\n",
        "for idx, row in random_samples.iterrows():\n",
        "    original_text = row['content']\n",
        "    original_sentiment = row['text_sentiment']  # Menggunakan sentimen berbasis teks\n",
        "    result = predict_sentiment(original_text, best_model, best_tokenizer)\n",
        "\n",
        "    print(f\"ID Review: {row['reviewId'] if 'reviewId' in row else idx}\")\n",
        "    print(f\"Teks Asli: {original_text}\")\n",
        "    print(f\"Skor: {row['score']}\")\n",
        "    print(f\"Sentimen (Berbasis Teks): {original_sentiment}\")\n",
        "    print(f\"Sentimen Prediksi: {result['sentiment']} (confidence: {result['confidence']:.2f}%)\")\n",
        "    print(\"-\" * 50)"
      ],
      "metadata": {
        "colab": {
          "base_uri": "https://localhost:8080/"
        },
        "id": "Snk-_Y-JMBBN",
        "outputId": "d63c5f27-8293-48e1-b420-c0bd0af1d53a"
      },
      "execution_count": null,
      "outputs": [
        {
          "output_type": "stream",
          "name": "stdout",
          "text": [
            "\n",
            "--- Inferensi Sampel dari Dataset Asli ---\n",
            "\u001b[1m1/1\u001b[0m \u001b[32m━━━━━━━━━━━━━━━━━━━━\u001b[0m\u001b[37m\u001b[0m \u001b[1m0s\u001b[0m 110ms/step\n",
            "ID Review: 33c79f83-efa6-4cbc-a39d-ed457bc528bd\n",
            "Teks Asli: turunkan harga ongkir\n",
            "Skor: 1\n",
            "Sentimen (Berbasis Teks): negatif\n",
            "Sentimen Prediksi: negatif (confidence: 79.48%)\n",
            "--------------------------------------------------\n",
            "\u001b[1m1/1\u001b[0m \u001b[32m━━━━━━━━━━━━━━━━━━━━\u001b[0m\u001b[37m\u001b[0m \u001b[1m0s\u001b[0m 89ms/step\n",
            "ID Review: c51088d4-c286-4045-b0ae-b298d66f7a23\n",
            "Teks Asli: Aplikasi yg tidak manusiawi terhadap drivernya sendiri\n",
            "Skor: 1\n",
            "Sentimen (Berbasis Teks): negatif\n",
            "Sentimen Prediksi: negatif (confidence: 94.94%)\n",
            "--------------------------------------------------\n",
            "\u001b[1m1/1\u001b[0m \u001b[32m━━━━━━━━━━━━━━━━━━━━\u001b[0m\u001b[37m\u001b[0m \u001b[1m0s\u001b[0m 124ms/step\n",
            "ID Review: bbff9075-9695-4999-b3ec-558b9b06cc2e\n",
            "Teks Asli: Keren\n",
            "Skor: 5\n",
            "Sentimen (Berbasis Teks): positif\n",
            "Sentimen Prediksi: positif (confidence: 99.62%)\n",
            "--------------------------------------------------\n",
            "\u001b[1m1/1\u001b[0m \u001b[32m━━━━━━━━━━━━━━━━━━━━\u001b[0m\u001b[37m\u001b[0m \u001b[1m0s\u001b[0m 141ms/step\n",
            "ID Review: 26a003cd-c87e-4217-9b96-bd017515ae30\n",
            "Teks Asli: Gojek cakep\n",
            "Skor: 5\n",
            "Sentimen (Berbasis Teks): positif\n",
            "Sentimen Prediksi: positif (confidence: 99.40%)\n",
            "--------------------------------------------------\n",
            "\u001b[1m1/1\u001b[0m \u001b[32m━━━━━━━━━━━━━━━━━━━━\u001b[0m\u001b[37m\u001b[0m \u001b[1m0s\u001b[0m 82ms/step\n",
            "ID Review: fe1872ab-f637-4255-a8c6-2d2fedc74d13\n",
            "Teks Asli: Feed back utk penjual gofood kenapa ga diaktifkan saja.\n",
            "Skor: 4\n",
            "Sentimen (Berbasis Teks): positif\n",
            "Sentimen Prediksi: positif (confidence: 64.98%)\n",
            "--------------------------------------------------\n"
          ]
        }
      ]
    },
    {
      "cell_type": "code",
      "source": [
        "# Simpan model terbaik dan tokenizer\n",
        "print(f\"\\nMenyimpan model terbaik ({model_name})...\")\n",
        "best_model.save(f'best_sentiment_model_{model_name}.h5')\n"
      ],
      "metadata": {
        "colab": {
          "base_uri": "https://localhost:8080/"
        },
        "id": "XFZAYSIHMJZG",
        "outputId": "e662549b-7cbb-450b-bc78-666d198e4334"
      },
      "execution_count": null,
      "outputs": [
        {
          "output_type": "stream",
          "name": "stderr",
          "text": [
            "WARNING:absl:You are saving your model as an HDF5 file via `model.save()` or `keras.saving.save_model(model)`. This file format is considered legacy. We recommend using instead the native Keras format, e.g. `model.save('my_model.keras')` or `keras.saving.save_model(model, 'my_model.keras')`. \n"
          ]
        },
        {
          "output_type": "stream",
          "name": "stdout",
          "text": [
            "\n",
            "Menyimpan model terbaik (CNN)...\n"
          ]
        }
      ]
    },
    {
      "cell_type": "code",
      "source": [
        "# Simpan tokenizer untuk penggunaan di masa depan\n",
        "import pickle\n",
        "with open('tokenizer.pickle', 'wb') as handle:\n",
        "    pickle.dump(tokenizer, handle, protocol=pickle.HIGHEST_PROTOCOL)\n",
        "\n",
        "print(f\"Model terbaik telah disimpan sebagai 'best_sentiment_model_{model_name}.h5'\")\n",
        "print(f\"Tokenizer telah disimpan sebagai 'tokenizer.pickle'\")"
      ],
      "metadata": {
        "colab": {
          "base_uri": "https://localhost:8080/"
        },
        "id": "PQZm6l75MLJV",
        "outputId": "ca747037-1640-4afa-8509-46acd90996ae"
      },
      "execution_count": null,
      "outputs": [
        {
          "output_type": "stream",
          "name": "stdout",
          "text": [
            "Model terbaik telah disimpan sebagai 'best_sentiment_model_CNN.h5'\n",
            "Tokenizer telah disimpan sebagai 'tokenizer.pickle'\n"
          ]
        }
      ]
    },
    {
      "cell_type": "code",
      "source": [
        "# Visualisasi confusion matrix untuk model terbaik\n",
        "if best_accuracy == accuracy1:\n",
        "    y_pred_classes = y_pred_classes1\n",
        "elif best_accuracy == accuracy2:\n",
        "    y_pred_classes = y_pred_classes2\n",
        "else:\n",
        "    y_pred_classes = y_pred_classes3\n",
        "\n",
        "cm = confusion_matrix(y_test, y_pred_classes)\n",
        "plt.figure(figsize=(8, 6))\n",
        "sns.heatmap(cm, annot=True, fmt='d', cmap='Blues',\n",
        "            xticklabels=['Negatif', 'Netral', 'Positif'],\n",
        "            yticklabels=['Negatif', 'Netral', 'Positif'])\n",
        "plt.xlabel('Prediksi')\n",
        "plt.ylabel('Aktual')\n",
        "plt.title(f'Confusion Matrix - Model {model_name}')\n",
        "plt.tight_layout()\n",
        "plt.show()  # Tampilkan langsung di Colab\n",
        "\n",
        "print(\"\\nAnalisis Sentimen selesai!\")"
      ],
      "metadata": {
        "colab": {
          "base_uri": "https://localhost:8080/",
          "height": 642
        },
        "id": "Bw8EUVuNMTfm",
        "outputId": "70e15168-dda8-4cb9-812b-03d087ae3a32"
      },
      "execution_count": null,
      "outputs": [
        {
          "output_type": "display_data",
          "data": {
            "text/plain": [
              "<Figure size 800x600 with 2 Axes>"
            ],
            "image/png": "[encoded data removed]"
          },
          "metadata": {}
        },
        {
          "output_type": "stream",
          "name": "stdout",
          "text": [
            "\n",
            "Analisis Sentimen selesai!\n"
          ]
        }
      ]
    }
  ]
}